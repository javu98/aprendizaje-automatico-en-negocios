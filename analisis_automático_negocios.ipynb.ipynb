{
 "cells": [
  {
   "cell_type": "markdown",
   "metadata": {},
   "source": [
    "# Proyecto: Selección de las mejores ubicaciones para pozos petroleros\n",
    "\n",
    "## **Introducción al proyecto**\n",
    "\n",
    "En este proyecto, trabajamos para la compañía de extracción de petróleo *OilyGiant*. La empresa busca abrir **200 nuevos pozos de petróleo** en una de tres regiones disponibles. Nuestro objetivo principal es desarrollar un modelo de **regresión lineal** que prediga el **volumen de reservas** en cada pozo, seleccionando las **mejores ubicaciones** para maximizar las ganancias de inversión y minimizar riesgos.\n",
    "\n",
    "## **Pasos a seguir**\n",
    "\n",
    "1. **Preparación de datos:** Leeremos y limpiaremos los archivos con datos de los pozos de cada región.  \n",
    "2. **Entrenamiento del modelo:** Crearemos un modelo de regresión lineal para cada región y evaluaremos su desempeño utilizando métricas como el **RMSE**.  \n",
    "3. **Selección de los mejores pozos:** Identificaremos los **200 pozos con mayor volumen estimado de reservas** en cada región.  \n",
    "4. **Evaluación económica:** Calcularemos la ganancia potencial de estos 200 pozos considerando el costo de inversión y los ingresos por barril de petróleo.  \n",
    "5. **Análisis de riesgos:** Utilizaremos **bootstrapping** para analizar los riesgos de pérdidas y el beneficio promedio.  \n",
    "6. **Conclusión:** Propondremos la región más adecuada para el desarrollo basándonos en la combinación de beneficio y riesgo.\n",
    "\n",
    "---\n",
    "\n",
    "## **Diccionario de datos**\n",
    "\n",
    "Cada archivo proporcionado (`geo_data_0.csv`, `geo_data_1.csv`, `geo_data_2.csv`) contiene la siguiente información:\n",
    "\n",
    "- **id:** Identificador único del pozo de petróleo.  \n",
    "- **f0, f1, f2:** Características numéricas de los puntos. El significado específico de estas variables no es importante, pero influyen en el modelo predictivo.  \n",
    "- **product:** Volumen de reservas en el pozo de petróleo, expresado en **miles de barriles**.  \n",
    "\n",
    "---\n",
    "\n",
    "Este enfoque nos permitirá seleccionar la **región más rentable y menos riesgosa** para el desarrollo de los nuevos pozos. En el proceso, aplicaremos métricas de regresión (como RMSE) y técnicas estadísticas (como **bootstrapping**) para garantizar la fiabilidad de nuestras conclusiones.\n",
    "\n"
   ]
  },
  {
   "cell_type": "markdown",
   "metadata": {},
   "source": [
    "# Paso 1 - Carga y Exploración de los Datos\n",
    "\n",
    "El primer paso para desarrollar nuestro modelo es **cargar y explorar los datos disponibles** de las tres regiones. Esto es crucial para asegurarnos de que toda la información esté correcta y lista para el análisis.\n",
    "\n",
    "### Objetivos de este paso:\n",
    "1. **Cargar los conjuntos de datos** proporcionados para las tres regiones.\n",
    "2. **Verificar** que los datos se hayan importado correctamente.\n",
    "3. **Inspeccionar la estructura** de los datos (columnas, tipos de datos y valores faltantes).\n",
    "4. **Separar las variables predictoras** (`f0`, `f1`, `f2`) del valor objetivo (`product`), que representa el volumen de reservas de petróleo en cada pozo.\n",
    "5. **Explorar estadísticas básicas** para entender las características de los datos y detectar posibles anomalías o valores atípicos.\n",
    "\n",
    "Con los datos bien organizados y comprendidos, estaremos en una mejor posición para avanzar hacia la construcción y validación del modelo. Además, detectar problemas como valores faltantes o columnas con tipos incorrectos nos permitirá tomar decisiones tempranas y evitar errores en las etapas posteriores.\n",
    "\n",
    "---\n",
    "\n",
    "A continuación, cargaremos los archivos de las tres regiones y realizaremos una inspección inicial.\n"
   ]
  },
  {
   "cell_type": "code",
   "execution_count": 1,
   "metadata": {},
   "outputs": [
    {
     "name": "stdout",
     "output_type": "stream",
     "text": [
      "Primeras filas de geo_data_0:\n"
     ]
    },
    {
     "data": {
      "text/html": [
       "<div>\n",
       "<style scoped>\n",
       "    .dataframe tbody tr th:only-of-type {\n",
       "        vertical-align: middle;\n",
       "    }\n",
       "\n",
       "    .dataframe tbody tr th {\n",
       "        vertical-align: top;\n",
       "    }\n",
       "\n",
       "    .dataframe thead th {\n",
       "        text-align: right;\n",
       "    }\n",
       "</style>\n",
       "<table border=\"1\" class=\"dataframe\">\n",
       "  <thead>\n",
       "    <tr style=\"text-align: right;\">\n",
       "      <th></th>\n",
       "      <th>id</th>\n",
       "      <th>f0</th>\n",
       "      <th>f1</th>\n",
       "      <th>f2</th>\n",
       "      <th>product</th>\n",
       "    </tr>\n",
       "  </thead>\n",
       "  <tbody>\n",
       "    <tr>\n",
       "      <th>0</th>\n",
       "      <td>txEyH</td>\n",
       "      <td>0.705745</td>\n",
       "      <td>-0.497823</td>\n",
       "      <td>1.221170</td>\n",
       "      <td>105.280062</td>\n",
       "    </tr>\n",
       "    <tr>\n",
       "      <th>1</th>\n",
       "      <td>2acmU</td>\n",
       "      <td>1.334711</td>\n",
       "      <td>-0.340164</td>\n",
       "      <td>4.365080</td>\n",
       "      <td>73.037750</td>\n",
       "    </tr>\n",
       "    <tr>\n",
       "      <th>2</th>\n",
       "      <td>409Wp</td>\n",
       "      <td>1.022732</td>\n",
       "      <td>0.151990</td>\n",
       "      <td>1.419926</td>\n",
       "      <td>85.265647</td>\n",
       "    </tr>\n",
       "    <tr>\n",
       "      <th>3</th>\n",
       "      <td>iJLyR</td>\n",
       "      <td>-0.032172</td>\n",
       "      <td>0.139033</td>\n",
       "      <td>2.978566</td>\n",
       "      <td>168.620776</td>\n",
       "    </tr>\n",
       "    <tr>\n",
       "      <th>4</th>\n",
       "      <td>Xdl7t</td>\n",
       "      <td>1.988431</td>\n",
       "      <td>0.155413</td>\n",
       "      <td>4.751769</td>\n",
       "      <td>154.036647</td>\n",
       "    </tr>\n",
       "  </tbody>\n",
       "</table>\n",
       "</div>"
      ],
      "text/plain": [
       "      id        f0        f1        f2     product\n",
       "0  txEyH  0.705745 -0.497823  1.221170  105.280062\n",
       "1  2acmU  1.334711 -0.340164  4.365080   73.037750\n",
       "2  409Wp  1.022732  0.151990  1.419926   85.265647\n",
       "3  iJLyR -0.032172  0.139033  2.978566  168.620776\n",
       "4  Xdl7t  1.988431  0.155413  4.751769  154.036647"
      ]
     },
     "metadata": {},
     "output_type": "display_data"
    },
    {
     "name": "stdout",
     "output_type": "stream",
     "text": [
      "\n",
      "Primeras filas de geo_data_1:\n"
     ]
    },
    {
     "data": {
      "text/html": [
       "<div>\n",
       "<style scoped>\n",
       "    .dataframe tbody tr th:only-of-type {\n",
       "        vertical-align: middle;\n",
       "    }\n",
       "\n",
       "    .dataframe tbody tr th {\n",
       "        vertical-align: top;\n",
       "    }\n",
       "\n",
       "    .dataframe thead th {\n",
       "        text-align: right;\n",
       "    }\n",
       "</style>\n",
       "<table border=\"1\" class=\"dataframe\">\n",
       "  <thead>\n",
       "    <tr style=\"text-align: right;\">\n",
       "      <th></th>\n",
       "      <th>id</th>\n",
       "      <th>f0</th>\n",
       "      <th>f1</th>\n",
       "      <th>f2</th>\n",
       "      <th>product</th>\n",
       "    </tr>\n",
       "  </thead>\n",
       "  <tbody>\n",
       "    <tr>\n",
       "      <th>0</th>\n",
       "      <td>kBEdx</td>\n",
       "      <td>-15.001348</td>\n",
       "      <td>-8.276000</td>\n",
       "      <td>-0.005876</td>\n",
       "      <td>3.179103</td>\n",
       "    </tr>\n",
       "    <tr>\n",
       "      <th>1</th>\n",
       "      <td>62mP7</td>\n",
       "      <td>14.272088</td>\n",
       "      <td>-3.475083</td>\n",
       "      <td>0.999183</td>\n",
       "      <td>26.953261</td>\n",
       "    </tr>\n",
       "    <tr>\n",
       "      <th>2</th>\n",
       "      <td>vyE1P</td>\n",
       "      <td>6.263187</td>\n",
       "      <td>-5.948386</td>\n",
       "      <td>5.001160</td>\n",
       "      <td>134.766305</td>\n",
       "    </tr>\n",
       "    <tr>\n",
       "      <th>3</th>\n",
       "      <td>KcrkZ</td>\n",
       "      <td>-13.081196</td>\n",
       "      <td>-11.506057</td>\n",
       "      <td>4.999415</td>\n",
       "      <td>137.945408</td>\n",
       "    </tr>\n",
       "    <tr>\n",
       "      <th>4</th>\n",
       "      <td>AHL4O</td>\n",
       "      <td>12.702195</td>\n",
       "      <td>-8.147433</td>\n",
       "      <td>5.004363</td>\n",
       "      <td>134.766305</td>\n",
       "    </tr>\n",
       "  </tbody>\n",
       "</table>\n",
       "</div>"
      ],
      "text/plain": [
       "      id         f0         f1        f2     product\n",
       "0  kBEdx -15.001348  -8.276000 -0.005876    3.179103\n",
       "1  62mP7  14.272088  -3.475083  0.999183   26.953261\n",
       "2  vyE1P   6.263187  -5.948386  5.001160  134.766305\n",
       "3  KcrkZ -13.081196 -11.506057  4.999415  137.945408\n",
       "4  AHL4O  12.702195  -8.147433  5.004363  134.766305"
      ]
     },
     "metadata": {},
     "output_type": "display_data"
    },
    {
     "name": "stdout",
     "output_type": "stream",
     "text": [
      "\n",
      "Primeras filas de geo_data_2:\n"
     ]
    },
    {
     "data": {
      "text/html": [
       "<div>\n",
       "<style scoped>\n",
       "    .dataframe tbody tr th:only-of-type {\n",
       "        vertical-align: middle;\n",
       "    }\n",
       "\n",
       "    .dataframe tbody tr th {\n",
       "        vertical-align: top;\n",
       "    }\n",
       "\n",
       "    .dataframe thead th {\n",
       "        text-align: right;\n",
       "    }\n",
       "</style>\n",
       "<table border=\"1\" class=\"dataframe\">\n",
       "  <thead>\n",
       "    <tr style=\"text-align: right;\">\n",
       "      <th></th>\n",
       "      <th>id</th>\n",
       "      <th>f0</th>\n",
       "      <th>f1</th>\n",
       "      <th>f2</th>\n",
       "      <th>product</th>\n",
       "    </tr>\n",
       "  </thead>\n",
       "  <tbody>\n",
       "    <tr>\n",
       "      <th>0</th>\n",
       "      <td>fwXo0</td>\n",
       "      <td>-1.146987</td>\n",
       "      <td>0.963328</td>\n",
       "      <td>-0.828965</td>\n",
       "      <td>27.758673</td>\n",
       "    </tr>\n",
       "    <tr>\n",
       "      <th>1</th>\n",
       "      <td>WJtFt</td>\n",
       "      <td>0.262778</td>\n",
       "      <td>0.269839</td>\n",
       "      <td>-2.530187</td>\n",
       "      <td>56.069697</td>\n",
       "    </tr>\n",
       "    <tr>\n",
       "      <th>2</th>\n",
       "      <td>ovLUW</td>\n",
       "      <td>0.194587</td>\n",
       "      <td>0.289035</td>\n",
       "      <td>-5.586433</td>\n",
       "      <td>62.871910</td>\n",
       "    </tr>\n",
       "    <tr>\n",
       "      <th>3</th>\n",
       "      <td>q6cA6</td>\n",
       "      <td>2.236060</td>\n",
       "      <td>-0.553760</td>\n",
       "      <td>0.930038</td>\n",
       "      <td>114.572842</td>\n",
       "    </tr>\n",
       "    <tr>\n",
       "      <th>4</th>\n",
       "      <td>WPMUX</td>\n",
       "      <td>-0.515993</td>\n",
       "      <td>1.716266</td>\n",
       "      <td>5.899011</td>\n",
       "      <td>149.600746</td>\n",
       "    </tr>\n",
       "  </tbody>\n",
       "</table>\n",
       "</div>"
      ],
      "text/plain": [
       "      id        f0        f1        f2     product\n",
       "0  fwXo0 -1.146987  0.963328 -0.828965   27.758673\n",
       "1  WJtFt  0.262778  0.269839 -2.530187   56.069697\n",
       "2  ovLUW  0.194587  0.289035 -5.586433   62.871910\n",
       "3  q6cA6  2.236060 -0.553760  0.930038  114.572842\n",
       "4  WPMUX -0.515993  1.716266  5.899011  149.600746"
      ]
     },
     "metadata": {},
     "output_type": "display_data"
    },
    {
     "name": "stdout",
     "output_type": "stream",
     "text": [
      "\n",
      "Tamaño de geo_data_0: (100000, 5)\n",
      "Tamaño de geo_data_1: (100000, 5)\n",
      "Tamaño de geo_data_2: (100000, 5)\n",
      "\n",
      "Valores ausentes en geo_data_0:\n",
      "id         0\n",
      "f0         0\n",
      "f1         0\n",
      "f2         0\n",
      "product    0\n",
      "dtype: int64\n",
      "\n",
      "Valores ausentes en geo_data_1:\n",
      "id         0\n",
      "f0         0\n",
      "f1         0\n",
      "f2         0\n",
      "product    0\n",
      "dtype: int64\n",
      "\n",
      "Valores ausentes en geo_data_2:\n",
      "id         0\n",
      "f0         0\n",
      "f1         0\n",
      "f2         0\n",
      "product    0\n",
      "dtype: int64\n",
      "\n",
      "Tipos de datos en geo_data_0:\n",
      "id          object\n",
      "f0         float64\n",
      "f1         float64\n",
      "f2         float64\n",
      "product    float64\n",
      "dtype: object\n",
      "\n",
      "Tipos de datos en geo_data_1:\n",
      "id          object\n",
      "f0         float64\n",
      "f1         float64\n",
      "f2         float64\n",
      "product    float64\n",
      "dtype: object\n",
      "\n",
      "Tipos de datos en geo_data_2:\n",
      "id          object\n",
      "f0         float64\n",
      "f1         float64\n",
      "f2         float64\n",
      "product    float64\n",
      "dtype: object\n",
      "\n",
      "Duplicados en geo_data_0: 0\n",
      "Duplicados en geo_data_1: 0\n",
      "Duplicados en geo_data_2: 0\n",
      "\n",
      "Estadísticas descriptivas de 'product' en geo_data_0:\n"
     ]
    },
    {
     "data": {
      "text/plain": [
       "count    100000.000000\n",
       "mean         92.500000\n",
       "std          44.288691\n",
       "min           0.000000\n",
       "25%          56.497507\n",
       "50%          91.849972\n",
       "75%         128.564089\n",
       "max         185.364347\n",
       "Name: product, dtype: float64"
      ]
     },
     "metadata": {},
     "output_type": "display_data"
    },
    {
     "name": "stdout",
     "output_type": "stream",
     "text": [
      "\n",
      "Estadísticas descriptivas de 'product' en geo_data_1:\n"
     ]
    },
    {
     "data": {
      "text/plain": [
       "count    100000.000000\n",
       "mean         68.825000\n",
       "std          45.944423\n",
       "min           0.000000\n",
       "25%          26.953261\n",
       "50%          57.085625\n",
       "75%         107.813044\n",
       "max         137.945408\n",
       "Name: product, dtype: float64"
      ]
     },
     "metadata": {},
     "output_type": "display_data"
    },
    {
     "name": "stdout",
     "output_type": "stream",
     "text": [
      "\n",
      "Estadísticas descriptivas de 'product' en geo_data_2:\n"
     ]
    },
    {
     "data": {
      "text/plain": [
       "count    100000.000000\n",
       "mean         95.000000\n",
       "std          44.749921\n",
       "min           0.000000\n",
       "25%          59.450441\n",
       "50%          94.925613\n",
       "75%         130.595027\n",
       "max         190.029838\n",
       "Name: product, dtype: float64"
      ]
     },
     "metadata": {},
     "output_type": "display_data"
    }
   ],
   "source": [
    "# Paso 1 - Cargar y explorar los datos\n",
    "import pandas as pd\n",
    "\n",
    "# Cargar los datos de las tres regiones\n",
    "data_0 = pd.read_csv('/datasets/geo_data_0.csv')\n",
    "data_1 = pd.read_csv('/datasets/geo_data_1.csv')\n",
    "data_2 = pd.read_csv('/datasets/geo_data_2.csv')\n",
    "\n",
    "# Mostrar las primeras filas de cada conjunto de datos para visualización\n",
    "print(\"Primeras filas de geo_data_0:\")\n",
    "display(data_0.head())\n",
    "\n",
    "print(\"\\nPrimeras filas de geo_data_1:\")\n",
    "display(data_1.head())\n",
    "\n",
    "print(\"\\nPrimeras filas de geo_data_2:\")\n",
    "display(data_2.head())\n",
    "\n",
    "# Verificación del tamaño de los DataFrames\n",
    "print(\"\\nTamaño de geo_data_0:\", data_0.shape)\n",
    "print(\"Tamaño de geo_data_1:\", data_1.shape)\n",
    "print(\"Tamaño de geo_data_2:\", data_2.shape)\n",
    "\n",
    "# Comprobación de valores ausentes en cada conjunto de datos\n",
    "print(\"\\nValores ausentes en geo_data_0:\")\n",
    "print(data_0.isna().sum())\n",
    "\n",
    "print(\"\\nValores ausentes en geo_data_1:\")\n",
    "print(data_1.isna().sum())\n",
    "\n",
    "print(\"\\nValores ausentes en geo_data_2:\")\n",
    "print(data_2.isna().sum())\n",
    "\n",
    "# Verificación de tipos de datos\n",
    "print(\"\\nTipos de datos en geo_data_0:\")\n",
    "print(data_0.dtypes)\n",
    "\n",
    "print(\"\\nTipos de datos en geo_data_1:\")\n",
    "print(data_1.dtypes)\n",
    "\n",
    "print(\"\\nTipos de datos en geo_data_2:\")\n",
    "print(data_2.dtypes)\n",
    "\n",
    "# Comprobación de duplicados\n",
    "print(\"\\nDuplicados en geo_data_0:\", data_0.duplicated().sum())\n",
    "print(\"Duplicados en geo_data_1:\", data_1.duplicated().sum())\n",
    "print(\"Duplicados en geo_data_2:\", data_2.duplicated().sum())\n",
    "\n",
    "# Estadísticas descriptivas para la columna 'product'\n",
    "print(\"\\nEstadísticas descriptivas de 'product' en geo_data_0:\")\n",
    "display(data_0['product'].describe())\n",
    "\n",
    "print(\"\\nEstadísticas descriptivas de 'product' en geo_data_1:\")\n",
    "display(data_1['product'].describe())\n",
    "\n",
    "print(\"\\nEstadísticas descriptivas de 'product' en geo_data_2:\")\n",
    "display(data_2['product'].describe())\n"
   ]
  },
  {
   "cell_type": "markdown",
   "metadata": {},
   "source": [
    "# **Resultados de la carga y exploración de los datos**\n",
    "\n",
    "Tras la exploración de los tres conjuntos de datos proporcionados, estos son los **hallazgos clave**:\n",
    "\n",
    "1. **Estructura de los datos:** \n",
    "   - Cada conjunto de datos tiene **100,000 filas y 5 columnas**. Las columnas incluyen un identificador único (`id`), tres características (`f0`, `f1`, `f2`) y la variable objetivo (`product`), que representa el volumen de reservas de petróleo en miles de barriles.\n",
    "\n",
    "2. **Valores ausentes:** \n",
    "   - No se encontraron **valores faltantes** en ninguno de los tres conjuntos. Esto es positivo, ya que no necesitamos realizar imputaciones ni eliminar filas por datos incompletos.\n",
    "\n",
    "3. **Duplicados:** \n",
    "   - No hay **registros duplicados** en ninguno de los conjuntos. Esto asegura que los datos no estén contaminados por repeticiones innecesarias que podrían sesgar los resultados.\n",
    "\n",
    "4. **Tipos de datos:** \n",
    "   - Las columnas numéricas (`f0`, `f1`, `f2` y `product`) tienen el tipo de dato **float64**, lo que es adecuado para realizar análisis numéricos y modelado predictivo.\n",
    "   - La columna `id` es de tipo **object**, lo cual es correcto porque es solo un identificador único y no necesita conversión.\n",
    "\n",
    "5. **Estadísticas descriptivas:** \n",
    "   - La media de la columna `product` varía entre regiones: \n",
    "     - **Región 0:** Media = 92.5, Máximo = 185.36  \n",
    "     - **Región 1:** Media = 68.82, Máximo = 137.94  \n",
    "     - **Región 2:** Media = 95, Máximo = 190.03  \n",
    "   - Esto sugiere que las reservas de petróleo difieren entre las regiones. La desviación estándar también es similar entre regiones, lo que indica una distribución comparable de los valores de reservas.\n",
    "\n",
    "---\n",
    "\n",
    "## **¿Están los datos listos para usarse?**\n",
    "\n",
    "Los datos están **en buenas condiciones** para comenzar a trabajar:\n",
    "- No requieren limpieza adicional, ya que no hay valores ausentes ni duplicados.\n",
    "- Los tipos de datos son adecuados para el análisis.\n",
    "- Las características (`f0`, `f1`, `f2`) y la variable objetivo (`product`) parecen listas para ser utilizadas en un modelo de regresión lineal.\n",
    "\n",
    "---\n",
    "\n",
    "## **Próximo paso**\n",
    "\n",
    "El siguiente paso será **entrenar y probar el modelo de regresión lineal** en cada región. Dividiremos los datos en conjuntos de entrenamiento y validación (75% y 25%, respectivamente) para evaluar el desempeño del modelo en cada una de las tres regiones. Luego, analizaremos las métricas de precisión, como el **RMSE**, para seleccionar los pozos con el mayor volumen de reservas.\n",
    "\n"
   ]
  },
  {
   "cell_type": "markdown",
   "metadata": {},
   "source": [
    "<div class=\"alert alert-block alert-success\">\n",
    "<b>Comentario del revisor</b> <a class=\"tocSkip\"></a>\n",
    "\n",
    "Excelente trabajo con la carga de la información y su exploración inicial. Como aprendiste el análisisd e duplicados es fundamental para asegurar que no tendremos resultados sesgados. Por otra parte el uso de describe() es muy util cuando mostramos la información de las variables con las que vamos a trabajar. "
   ]
  },
  {
   "cell_type": "markdown",
   "metadata": {},
   "source": [
    "# **Paso 2. División de los datos en entrenamiento y validación**\n",
    "\n",
    "Para poder entrenar y evaluar nuestro modelo de regresión lineal, es necesario **dividir los datos en dos subconjuntos**:  \n",
    "- **Conjunto de entrenamiento:** Contendrá el **75%** de los datos y se utilizará para ajustar el modelo.\n",
    "- **Conjunto de validación:** Contendrá el **25%** restante de los datos y se usará para evaluar el rendimiento del modelo una vez entrenado.\n",
    "\n",
    "Esta división es fundamental para asegurar que el modelo pueda generalizar bien a datos que no ha visto durante el entrenamiento. Si el modelo funciona correctamente en el conjunto de validación, significa que tiene una buena capacidad predictiva y no está sobreajustado (overfitting).\n",
    "\n",
    "### **Proceso de división**\n",
    "Utilizaremos la función `train_test_split` de la biblioteca **scikit-learn** para hacer esta división. Esta función separa los datos de forma aleatoria, asegurando que ambas muestras tengan una distribución representativa del conjunto original.\n",
    "\n",
    "Para cada región (geo_data_0, geo_data_1 y geo_data_2), realizaremos:\n",
    "1. **Separación de las características** (`f0`, `f1`, `f2`) y la variable objetivo (`product`).\n",
    "2. **División en entrenamiento y validación** con una proporción **75:25**.\n",
    "3. **Configuración del parámetro `random_state`** para asegurar que la división sea reproducible en futuras ejecuciones.\n",
    "\n",
    "Con los datos divididos, podremos avanzar al entrenamiento del modelo de regresión lineal y hacer las predicciones sobre los datos de validación, lo que nos permitirá medir el rendimiento del modelo mediante métricas como el **RMSE**.\n",
    "\n"
   ]
  },
  {
   "cell_type": "code",
   "execution_count": 2,
   "metadata": {},
   "outputs": [
    {
     "name": "stdout",
     "output_type": "stream",
     "text": [
      "Tamaño de los conjuntos de entrenamiento y validación para geo_data_0:\n",
      "Entrenamiento: (75000, 3), Validación: (25000, 3)\n",
      "\n",
      "Tamaño de los conjuntos de entrenamiento y validación para geo_data_1:\n",
      "Entrenamiento: (75000, 3), Validación: (25000, 3)\n",
      "\n",
      "Tamaño de los conjuntos de entrenamiento y validación para geo_data_2:\n",
      "Entrenamiento: (75000, 3), Validación: (25000, 3)\n"
     ]
    }
   ],
   "source": [
    "# Importación de la función necesaria\n",
    "from sklearn.model_selection import train_test_split\n",
    "\n",
    "# División de los datos para geo_data_0\n",
    "X_0 = data_0[['f0', 'f1', 'f2']]  # Características\n",
    "y_0 = data_0['product']  # Variable objetivo\n",
    "\n",
    "X_train_0, X_valid_0, y_train_0, y_valid_0 = train_test_split(\n",
    "    X_0, y_0, test_size=0.25, random_state=42\n",
    ")\n",
    "\n",
    "# División de los datos para geo_data_1\n",
    "X_1 = data_1[['f0', 'f1', 'f2']]\n",
    "y_1 = data_1['product']\n",
    "\n",
    "X_train_1, X_valid_1, y_train_1, y_valid_1 = train_test_split(\n",
    "    X_1, y_1, test_size=0.25, random_state=42\n",
    ")\n",
    "\n",
    "# División de los datos para geo_data_2\n",
    "X_2 = data_2[['f0', 'f1', 'f2']]\n",
    "y_2 = data_2['product']\n",
    "\n",
    "X_train_2, X_valid_2, y_train_2, y_valid_2 = train_test_split(\n",
    "    X_2, y_2, test_size=0.25, random_state=42\n",
    ")\n",
    "\n",
    "# Verificación de las formas de los conjuntos divididos\n",
    "print(\"Tamaño de los conjuntos de entrenamiento y validación para geo_data_0:\")\n",
    "print(f\"Entrenamiento: {X_train_0.shape}, Validación: {X_valid_0.shape}\")\n",
    "\n",
    "print(\"\\nTamaño de los conjuntos de entrenamiento y validación para geo_data_1:\")\n",
    "print(f\"Entrenamiento: {X_train_1.shape}, Validación: {X_valid_1.shape}\")\n",
    "\n",
    "print(\"\\nTamaño de los conjuntos de entrenamiento y validación para geo_data_2:\")\n",
    "print(f\"Entrenamiento: {X_train_2.shape}, Validación: {X_valid_2.shape}\")\n",
    "\n",
    "\n"
   ]
  },
  {
   "cell_type": "markdown",
   "metadata": {},
   "source": [
    "# **Verificación de la división de los datos**\n",
    "\n",
    "La división de los datos en conjuntos de **entrenamiento y validación** se realizó correctamente. Cada uno de los tres conjuntos de datos fue dividido en una proporción **75:25**, resultando en:\n",
    "- **75,000** observaciones en el conjunto de entrenamiento.\n",
    "- **25,000** observaciones en el conjunto de validación.\n",
    "- **3 características** por conjunto (f0, f1, f2).\n",
    "\n",
    "Con esta división, estamos listos para proceder al entrenamiento del modelo de regresión lineal y a realizar las predicciones en el conjunto de validación.\n",
    "\n"
   ]
  },
  {
   "cell_type": "markdown",
   "metadata": {},
   "source": [
    "# **Entrenamiento del modelo y predicciones para el conjunto de validación**\n",
    "\n",
    "En este paso, vamos a **entrenar el modelo de regresión lineal** utilizando el conjunto de entrenamiento para cada región y luego **predecir el volumen de reservas** en el conjunto de validación. \n",
    "\n",
    "### **Proceso:**\n",
    "1. **Entrenamiento del modelo:** Utilizaremos el modelo de **Regresión Lineal** de la biblioteca scikit-learn.\n",
    "2. **Ajuste del modelo:** El modelo se entrenará con las características `f0`, `f1`, `f2` para predecir la variable objetivo `product`.\n",
    "3. **Predicciones:** Una vez entrenado, el modelo generará **predicciones** para los datos del conjunto de validación.\n",
    "4. **Evaluación del rendimiento:** Estas predicciones se compararán con los valores reales de la variable `product` en el conjunto de validación para evaluar qué tan preciso es el modelo.\n",
    "\n",
    "Este paso es crucial para asegurarnos de que el modelo funcione correctamente antes de seleccionar los pozos más prometedores.\n"
   ]
  },
  {
   "cell_type": "code",
   "execution_count": 3,
   "metadata": {},
   "outputs": [
    {
     "name": "stdout",
     "output_type": "stream",
     "text": [
      "Primeras 5 predicciones para geo_data_0: [101.90101715  78.21777385 115.26690103 105.61861791  97.9801849 ]\n",
      "Primeras 5 predicciones para geo_data_1: [ 8.44738063e-01  5.29216119e+01  1.35110385e+02  1.09494863e+02\n",
      " -4.72915824e-02]\n",
      "Primeras 5 predicciones para geo_data_2: [ 98.30191642 101.59246124  52.4490989  109.92212707  72.41184733]\n",
      "\n",
      "Tamaño de las predicciones para geo_data_0: (25000,)\n",
      "Tamaño de las predicciones para geo_data_1: (25000,)\n",
      "Tamaño de las predicciones para geo_data_2: (25000,)\n"
     ]
    }
   ],
   "source": [
    "# Importar la clase LinearRegression de scikit-learn\n",
    "from sklearn.linear_model import LinearRegression\n",
    "\n",
    "# Inicializar el modelo\n",
    "model_0 = LinearRegression()\n",
    "model_1 = LinearRegression()\n",
    "model_2 = LinearRegression()\n",
    "\n",
    "# Entrenar el modelo para geo_data_0\n",
    "model_0.fit(X_train_0, y_train_0)\n",
    "predictions_0 = model_0.predict(X_valid_0)\n",
    "\n",
    "# Entrenar el modelo para geo_data_1\n",
    "model_1.fit(X_train_1, y_train_1)\n",
    "predictions_1 = model_1.predict(X_valid_1)\n",
    "\n",
    "# Entrenar el modelo para geo_data_2\n",
    "model_2.fit(X_train_2, y_train_2)\n",
    "predictions_2 = model_2.predict(X_valid_2)\n",
    "\n",
    "# Mostrar las primeras 5 predicciones para cada región\n",
    "print(\"Primeras 5 predicciones para geo_data_0:\", predictions_0[:5])\n",
    "print(\"Primeras 5 predicciones para geo_data_1:\", predictions_1[:5])\n",
    "print(\"Primeras 5 predicciones para geo_data_2:\", predictions_2[:5])\n",
    "\n",
    "# Mostrar el tamaño de las predicciones para verificar que coincidan con los datos de validación\n",
    "print(\"\\nTamaño de las predicciones para geo_data_0:\", predictions_0.shape)\n",
    "print(\"Tamaño de las predicciones para geo_data_1:\", predictions_1.shape)\n",
    "print(\"Tamaño de las predicciones para geo_data_2:\", predictions_2.shape)\n",
    "\n"
   ]
  },
  {
   "cell_type": "code",
   "execution_count": 4,
   "metadata": {},
   "outputs": [
    {
     "name": "stdout",
     "output_type": "stream",
     "text": [
      "Predicciones y respuestas correctas guardadas en archivos CSV.\n"
     ]
    }
   ],
   "source": [
    "# Guardar las predicciones y las respuestas correctas del conjunto de validación\n",
    "\n",
    "# Creación de DataFrames para almacenar las predicciones y respuestas reales\n",
    "results_0 = pd.DataFrame({'predictions': predictions_0, 'actual': y_valid_0.reset_index(drop=True)})\n",
    "results_1 = pd.DataFrame({'predictions': predictions_1, 'actual': y_valid_1.reset_index(drop=True)})\n",
    "results_2 = pd.DataFrame({'predictions': predictions_2, 'actual': y_valid_2.reset_index(drop=True)})\n",
    "\n",
    "# Guardar los DataFrames en archivos CSV para futuras referencias\n",
    "results_0.to_csv('predictions_geo_data_0.csv', index=False)\n",
    "results_1.to_csv('predictions_geo_data_1.csv', index=False)\n",
    "results_2.to_csv('predictions_geo_data_2.csv', index=False)\n",
    "\n",
    "print(\"Predicciones y respuestas correctas guardadas en archivos CSV.\")\n"
   ]
  },
  {
   "cell_type": "markdown",
   "metadata": {},
   "source": [
    "# **Guardado de predicciones y respuestas correctas del conjunto de validación**\n",
    "\n",
    "Hemos creado y guardado **DataFrames** que contienen las **predicciones generadas por el modelo** junto con las **respuestas reales** para los conjuntos de validación de cada una de las tres regiones. Estos DataFrames se han exportado como **archivos CSV** para un uso futuro, asegurando que los resultados estén almacenados de forma organizada y accesible. Esta etapa es fundamental para poder realizar comparaciones entre las predicciones y los valores reales y evaluar el rendimiento del modelo.\n",
    "\n"
   ]
  },
  {
   "cell_type": "markdown",
   "metadata": {},
   "source": [
    "# **Volumen medio de reservas predicho y cálculo del RMSE**\n",
    "\n",
    "El siguiente paso consiste en **evaluar el rendimiento del modelo** de regresión lineal para cada región. Para ello, realizaremos lo siguiente:\n",
    "\n",
    "1. **Cálculo del volumen medio de reservas predicho:** Calcularemos la media de las predicciones generadas por el modelo para cada región, lo que nos dará una idea de las reservas promedio esperadas según nuestras predicciones.\n",
    "2. **Cálculo del RMSE (Raíz del Error Cuadrático Medio):** Esta métrica nos indicará qué tan alejadas están, en promedio, las predicciones del modelo respecto a los valores reales. Un **RMSE bajo** significa que las predicciones son precisas, mientras que un RMSE alto indica que el modelo tiene errores significativos.\n",
    "\n",
    "Esta evaluación nos ayudará a determinar la **calidad del modelo predictivo** y servirá como base para seleccionar las regiones más prometedoras en términos de reservas petroleras.\n",
    "\n"
   ]
  },
  {
   "cell_type": "code",
   "execution_count": 5,
   "metadata": {},
   "outputs": [
    {
     "name": "stdout",
     "output_type": "stream",
     "text": [
      "Volumen medio de reservas predicho para geo_data_0: 92.40\n",
      "Volumen medio de reservas predicho para geo_data_1: 68.71\n",
      "Volumen medio de reservas predicho para geo_data_2: 94.77\n",
      "\n",
      "RMSE del modelo para geo_data_0: 37.76\n",
      "RMSE del modelo para geo_data_1: 0.89\n",
      "RMSE del modelo para geo_data_2: 40.15\n"
     ]
    }
   ],
   "source": [
    "# Importar la métrica mean_squared_error para el cálculo del RMSE\n",
    "from sklearn.metrics import mean_squared_error\n",
    "import numpy as np\n",
    "\n",
    "# Cálculo del volumen medio de reservas predicho para cada región\n",
    "mean_prediction_0 = predictions_0.mean()\n",
    "mean_prediction_1 = predictions_1.mean()\n",
    "mean_prediction_2 = predictions_2.mean()\n",
    "\n",
    "print(f\"Volumen medio de reservas predicho para geo_data_0: {mean_prediction_0:.2f}\")\n",
    "print(f\"Volumen medio de reservas predicho para geo_data_1: {mean_prediction_1:.2f}\")\n",
    "print(f\"Volumen medio de reservas predicho para geo_data_2: {mean_prediction_2:.2f}\")\n",
    "\n",
    "# Cálculo del RMSE para cada región\n",
    "rmse_0 = np.sqrt(mean_squared_error(y_valid_0, predictions_0))\n",
    "rmse_1 = np.sqrt(mean_squared_error(y_valid_1, predictions_1))\n",
    "rmse_2 = np.sqrt(mean_squared_error(y_valid_2, predictions_2))\n",
    "\n",
    "print(f\"\\nRMSE del modelo para geo_data_0: {rmse_0:.2f}\")\n",
    "print(f\"RMSE del modelo para geo_data_1: {rmse_1:.2f}\")\n",
    "print(f\"RMSE del modelo para geo_data_2: {rmse_2:.2f}\")\n",
    "\n"
   ]
  },
  {
   "cell_type": "markdown",
   "metadata": {},
   "source": [
    "# **Análisis de los resultados**\n",
    "\n",
    "### **Volumen medio de reservas predicho:**\n",
    "- **Región 0:** 92.40 miles de barriles.\n",
    "- **Región 1:** 68.71 miles de barriles.\n",
    "- **Región 2:** 94.77 miles de barriles.\n",
    "\n",
    "Estos valores nos indican que las **reservas promedio predichas** varían entre las regiones:\n",
    "- Las **regiones 0 y 2** muestran volúmenes medios de reservas más altos, cercanos a los 92 y 95 miles de barriles, respectivamente.\n",
    "- La **región 1** tiene el valor más bajo, con un promedio de 68.71 miles de barriles.\n",
    "\n",
    "### **Análisis del RMSE:**\n",
    "- **Región 0:** 37.76\n",
    "- **Región 1:** 0.89\n",
    "- **Región 2:** 40.15\n",
    "\n",
    "#### **Interpretación del RMSE:**\n",
    "- **Región 1** tiene un **RMSE muy bajo** (0.89), lo que sugiere que el modelo predijo con alta precisión los valores reales de reservas. Esto indica que las características (`f0`, `f1`, `f2`) tienen una fuerte correlación con el volumen de reservas en esta región.\n",
    "- **Región 0** y **Región 2** muestran **valores de RMSE más altos** (37.76 y 40.15, respectivamente), lo que sugiere que las predicciones del modelo tienen un mayor margen de error en estas regiones. Es posible que estas regiones tengan una mayor variabilidad en los datos o que las características disponibles no expliquen tan bien el volumen de reservas.\n",
    "\n",
    "### **Conclusión:**\n",
    "- **Región 1** parece ser la más **prometedora en términos de precisión del modelo**. Sin embargo, el volumen medio de reservas predicho es **significativamente menor** que en las otras dos regiones.\n",
    "- Para seleccionar la región más adecuada, debemos tener en cuenta no solo la precisión del modelo (RMSE) sino también el volumen medio de reservas, ya que **un mayor volumen de reservas implica mayores ingresos potenciales**.\n",
    "- En los próximos pasos, se realizará una **evaluación más detallada** utilizando técnicas como la selección de los pozos con mayor volumen y el análisis del riesgo mediante **bootstrapping**, lo cual nos ayudará a tomar una decisión informada sobre la región más rentable para el desarrollo.\n",
    "\n",
    "Este análisis preliminar indica que debemos proceder con cautela y considerar tanto la precisión del modelo como el volumen de reservas para tomar la mejor decisión.\n",
    "\n"
   ]
  },
  {
   "cell_type": "markdown",
   "metadata": {},
   "source": [
    "# **Creación de funciones y ejecución de los pasos anteriores para todas las regiones**\n",
    "\n",
    "En este punto, vamos a **refactorizar el código** que utilizamos en los pasos anteriores, colocando cada proceso en **funciones reutilizables**. Esto nos permitirá:\n",
    "1. **Evitar duplicación de código:** El mismo flujo se aplicará a cada archivo de datos.\n",
    "2. **Mejorar la organización del código:** Las funciones permiten estructurar el proceso de manera más clara y eficiente.\n",
    "3. **Facilitar la repetición del análisis:** Si necesitamos volver a realizar este análisis, podremos hacerlo con facilidad usando las funciones.\n",
    "\n",
    "### **Proceso dentro de las funciones**\n",
    "- **Carga y división de los datos:** Separación en entrenamiento y validación.\n",
    "- **Entrenamiento del modelo y generación de predicciones.**\n",
    "- **Cálculo del volumen medio de reservas y RMSE.**\n",
    "- **Almacenamiento de las predicciones y respuestas en CSV.**\n",
    "- **Análisis de los resultados.**\n",
    "\n",
    "Este enfoque permite aplicar **el mismo procedimiento de forma coherente** a los tres conjuntos de datos (`geo_data_0.csv`, `geo_data_1.csv` y `geo_data_2.csv`) para que podamos comparar los resultados entre las regiones y tomar decisiones basadas en datos consistentes.\n"
   ]
  },
  {
   "cell_type": "code",
   "execution_count": 6,
   "metadata": {},
   "outputs": [
    {
     "name": "stdout",
     "output_type": "stream",
     "text": [
      "Predicciones y respuestas guardadas para geo_data_0\n",
      "Resultados para geo_data_0:\n",
      "Volumen medio de reservas predicho: 92.40\n",
      "RMSE: 37.76\n",
      "\n",
      "Predicciones y respuestas guardadas para geo_data_1\n",
      "Resultados para geo_data_1:\n",
      "Volumen medio de reservas predicho: 68.71\n",
      "RMSE: 0.89\n",
      "\n",
      "Predicciones y respuestas guardadas para geo_data_2\n",
      "Resultados para geo_data_2:\n",
      "Volumen medio de reservas predicho: 94.77\n",
      "RMSE: 40.15\n",
      "\n"
     ]
    },
    {
     "data": {
      "text/plain": [
       "(94.77102387765939, 40.14587231134218)"
      ]
     },
     "execution_count": 6,
     "metadata": {},
     "output_type": "execute_result"
    }
   ],
   "source": [
    "# Importar las bibliotecas necesarias\n",
    "from sklearn.model_selection import train_test_split\n",
    "from sklearn.linear_model import LinearRegression\n",
    "from sklearn.metrics import mean_squared_error\n",
    "import numpy as np\n",
    "import pandas as pd\n",
    "\n",
    "# Función para cargar los datos y dividirlos en entrenamiento y validación\n",
    "def load_and_split_data(file_path):\n",
    "    data = pd.read_csv(file_path)\n",
    "    X = data[['f0', 'f1', 'f2']]\n",
    "    y = data['product']\n",
    "    X_train, X_valid, y_train, y_valid = train_test_split(X, y, test_size=0.25, random_state=42)\n",
    "    return X_train, X_valid, y_train, y_valid\n",
    "\n",
    "# Función para entrenar el modelo y generar predicciones\n",
    "def train_and_predict(X_train, y_train, X_valid):\n",
    "    model = LinearRegression()\n",
    "    model.fit(X_train, y_train)\n",
    "    predictions = model.predict(X_valid)\n",
    "    return predictions\n",
    "\n",
    "# Función para calcular el volumen medio de reservas y el RMSE\n",
    "def calculate_metrics(y_valid, predictions):\n",
    "    mean_predicted = predictions.mean()\n",
    "    rmse = np.sqrt(mean_squared_error(y_valid, predictions))\n",
    "    return mean_predicted, rmse\n",
    "\n",
    "# Función para guardar predicciones y respuestas correctas\n",
    "def save_results(predictions, y_valid, region_name):\n",
    "    results = pd.DataFrame({'predictions': predictions, 'actual': y_valid.reset_index(drop=True)})\n",
    "    results.to_csv(f'predictions_{region_name}.csv', index=False)\n",
    "    print(f\"Predicciones y respuestas guardadas para {region_name}\")\n",
    "\n",
    "# Función para ejecutar todo el proceso de una región\n",
    "def process_region(file_path, region_name):\n",
    "    # Cargar y dividir los datos\n",
    "    X_train, X_valid, y_train, y_valid = load_and_split_data(file_path)\n",
    "    \n",
    "    # Entrenar el modelo y obtener predicciones\n",
    "    predictions = train_and_predict(X_train, y_train, X_valid)\n",
    "    \n",
    "    # Calcular el volumen medio y RMSE\n",
    "    mean_predicted, rmse = calculate_metrics(y_valid, predictions)\n",
    "    \n",
    "    # Guardar los resultados\n",
    "    save_results(predictions, y_valid, region_name)\n",
    "    \n",
    "    # Mostrar los resultados\n",
    "    print(f\"Resultados para {region_name}:\")\n",
    "    print(f\"Volumen medio de reservas predicho: {mean_predicted:.2f}\")\n",
    "    print(f\"RMSE: {rmse:.2f}\\n\")\n",
    "    \n",
    "    return mean_predicted, rmse\n",
    "\n",
    "# Ejecutar para cada conjunto de datos\n",
    "process_region('/datasets/geo_data_0.csv', 'geo_data_0')\n",
    "process_region('/datasets/geo_data_1.csv', 'geo_data_1')\n",
    "process_region('/datasets/geo_data_2.csv', 'geo_data_2')\n",
    "\n"
   ]
  },
  {
   "cell_type": "markdown",
   "metadata": {},
   "source": [
    "# **Resultados del análisis para todas las regiones**\n",
    "\n",
    "Hemos ejecutado el flujo completo para las tres regiones, obteniendo los siguientes resultados:\n",
    "\n",
    "### **Resultados por región:**\n",
    "- **Región 0:**\n",
    "  - Volumen medio de reservas predicho: **92.40 miles de barriles**\n",
    "  - RMSE: **37.76**\n",
    "\n",
    "- **Región 1:**\n",
    "  - Volumen medio de reservas predicho: **68.71 miles de barriles**\n",
    "  - RMSE: **0.89**\n",
    "\n",
    "- **Región 2:**\n",
    "  - Volumen medio de reservas predicho: **94.77 miles de barriles**\n",
    "  - RMSE: **40.15**\n",
    "\n",
    "### **Interpretación de los resultados:**\n",
    "- **Región 1** destaca por tener un **RMSE muy bajo (0.89)**, lo que indica que el modelo de regresión lineal predice con alta precisión en esta región.\n",
    "- Sin embargo, **las regiones 0 y 2** presentan **volúmenes medios de reservas más altos** (92.40 y 94.77 miles de barriles, respectivamente), a pesar de tener RMSE más elevados.\n",
    "- El **volumen medio de reservas** es un factor importante a tener en cuenta, ya que implica **potencial de rentabilidad**, pero también es necesario considerar la **precisión del modelo** en cada región para minimizar riesgos.\n",
    "\n",
    "Estos resultados nos indican que:\n",
    "1. La **Región 1** tiene predicciones más precisas, pero menor volumen medio de reservas.\n",
    "2. Las **Regiones 0 y 2** tienen mayores volúmenes de reservas, pero con más variabilidad en las predicciones.\n",
    "\n",
    "Este análisis preliminar sugiere que las **Regiones 0 y 2** podrían ser más rentables, pero aún necesitamos evaluar el riesgo y la ganancia potencial para tomar la mejor decisión sobre dónde desarrollar los pozos.\n",
    "\n"
   ]
  },
  {
   "cell_type": "markdown",
   "metadata": {},
   "source": [
    "# **Preparación para el cálculo de ganancias**\n",
    "\n",
    "En este paso, nos **preparamos para calcular las ganancias** estimadas en cada región. Este análisis será crucial para determinar **qué región tiene el mayor potencial de rentabilidad** y así tomar decisiones informadas sobre el desarrollo de pozos. \n",
    "\n",
    "### **Proceso:**\n",
    "1. **Almacenamiento de valores clave:** \n",
    "   - Guardaremos en **variables separadas** todos los valores necesarios para el cálculo de las ganancias, incluyendo:\n",
    "     - **Presupuesto total** disponible para el desarrollo.\n",
    "     - **Costo por pozo** y **número de pozos**.\n",
    "     - **Precio por unidad de producto (barril).**\n",
    "     - **Predicciones de volumen de reservas** para cada región.\n",
    "     - **Cantidad mínima de reservas** necesarias para evitar pérdidas.\n",
    "\n",
    "2. **Importancia del almacenamiento organizado:** \n",
    "   - Mantener estos valores en variables separadas facilitará los cálculos posteriores y mejorará la legibilidad del código.\n",
    "   - Esto nos permitirá trabajar eficientemente en el análisis de riesgos y el cálculo de ganancias usando técnicas como la **selección de pozos con mayor volumen** y el **bootstrapping**.\n",
    "\n",
    "Este es un paso importante antes de avanzar al análisis de ganancias y riesgos, ya que nos asegura que todos los datos y parámetros estén bien organizados y listos para los cálculos.\n",
    "\n"
   ]
  },
  {
   "cell_type": "code",
   "execution_count": 7,
   "metadata": {},
   "outputs": [
    {
     "name": "stdout",
     "output_type": "stream",
     "text": [
      "Cantidad mínima de reservas necesarias por pozo: 111.11 unidades\n",
      "Primeras 5 predicciones para geo_data_0: [101.90101715  78.21777385 115.26690103 105.61861791  97.9801849 ]\n",
      "Primeras 5 predicciones para geo_data_1: [ 8.44738063e-01  5.29216119e+01  1.35110385e+02  1.09494863e+02\n",
      " -4.72915824e-02]\n",
      "Primeras 5 predicciones para geo_data_2: [ 98.30191642 101.59246124  52.4490989  109.92212707  72.41184733]\n"
     ]
    }
   ],
   "source": [
    "# Definir los valores clave para el cálculo de ganancias\n",
    "\n",
    "# Presupuesto total disponible en dólares\n",
    "total_budget = 100_000_000  # 100 millones de dólares\n",
    "\n",
    "# Número de pozos a desarrollar\n",
    "n_pozos = 200\n",
    "\n",
    "# Precio por barril de petróleo en dólares\n",
    "price_per_barrel = 4.5\n",
    "\n",
    "# Ingresos por unidad de producto (miles de barriles)\n",
    "income_per_unit = 4_500  # 4.5 USD * 1000 barriles\n",
    "\n",
    "# Cantidad mínima de reservas necesarias por pozo para evitar pérdidas (en unidades)\n",
    "min_reserves_per_pozo = 500_000 / income_per_unit  # 500,000 USD por pozo / 4,500 USD por unidad\n",
    "print(f\"Cantidad mínima de reservas necesarias por pozo: {min_reserves_per_pozo:.2f} unidades\")\n",
    "\n",
    "# Cargar las predicciones guardadas para cada región\n",
    "predictions_0 = pd.read_csv('predictions_geo_data_0.csv')['predictions']\n",
    "predictions_1 = pd.read_csv('predictions_geo_data_1.csv')['predictions']\n",
    "predictions_2 = pd.read_csv('predictions_geo_data_2.csv')['predictions']\n",
    "\n",
    "# Verificar las primeras 5 predicciones para asegurarse de que se cargaron correctamente\n",
    "print(f\"Primeras 5 predicciones para geo_data_0: {predictions_0[:5].values}\")\n",
    "print(f\"Primeras 5 predicciones para geo_data_1: {predictions_1[:5].values}\")\n",
    "print(f\"Primeras 5 predicciones para geo_data_2: {predictions_2[:5].values}\")\n",
    "\n"
   ]
  },
  {
   "cell_type": "markdown",
   "metadata": {},
   "source": [
    "# **Resultados de la preparación para el cálculo de ganancias**\n",
    "\n",
    "Hemos almacenado correctamente los **valores necesarios** para el cálculo de ganancias, incluyendo:\n",
    "- **Presupuesto total:** 100 millones de dólares.\n",
    "- **Número de pozos:** 200.\n",
    "- **Precio por barril:** 4.5 USD.\n",
    "- **Reservas mínimas necesarias:** Cada pozo debe generar al menos **111.11 unidades** para evitar pérdidas.\n",
    "\n",
    "Además, hemos verificado que las **predicciones se cargaron correctamente** para cada región, lo que nos asegura que estamos listos para proceder con el cálculo de las ganancias.\n",
    "\n",
    "---\n",
    "\n",
    "Podemos continuar con el siguiente paso, donde compararemos las **reservas mínimas necesarias** con el **volumen medio de reservas** en cada región para evaluar si alguna región está por debajo del umbral de rentabilidad. \n"
   ]
  },
  {
   "cell_type": "code",
   "execution_count": 8,
   "metadata": {},
   "outputs": [
    {
     "name": "stdout",
     "output_type": "stream",
     "text": [
      "Volumen medio de reservas en geo_data_0: 92.40 unidades\n",
      "¿Supera el umbral? No\n",
      "\n",
      "Volumen medio de reservas en geo_data_1: 68.71 unidades\n",
      "¿Supera el umbral? No\n",
      "\n",
      "Volumen medio de reservas en geo_data_2: 94.77 unidades\n",
      "¿Supera el umbral? No\n",
      "\n"
     ]
    }
   ],
   "source": [
    "# Valores mínimos necesarios por pozo para evitar pérdidas\n",
    "min_units_required = 111.11\n",
    "\n",
    "# Cálculo de la media de reservas en cada región (en unidades de producto)\n",
    "mean_reserves_0 = predictions_0.mean()\n",
    "mean_reserves_1 = predictions_1.mean()\n",
    "mean_reserves_2 = predictions_2.mean()\n",
    "\n",
    "# Mostrar los resultados y compararlos con la cantidad mínima necesaria\n",
    "print(f\"Volumen medio de reservas en geo_data_0: {mean_reserves_0:.2f} unidades\")\n",
    "print(f\"¿Supera el umbral? {'Sí' if mean_reserves_0 >= min_units_required else 'No'}\\n\")\n",
    "\n",
    "print(f\"Volumen medio de reservas en geo_data_1: {mean_reserves_1:.2f} unidades\")\n",
    "print(f\"¿Supera el umbral? {'Sí' if mean_reserves_1 >= min_units_required else 'No'}\\n\")\n",
    "\n",
    "print(f\"Volumen medio de reservas en geo_data_2: {mean_reserves_2:.2f} unidades\")\n",
    "print(f\"¿Supera el umbral? {'Sí' if mean_reserves_2 >= min_units_required else 'No'}\\n\")\n"
   ]
  },
  {
   "cell_type": "markdown",
   "metadata": {},
   "source": [
    "# **Análisis de los resultados**\n",
    "\n",
    "### **Volumen medio de reservas por región:**\n",
    "- **Región 0:** 92.40 unidades  \n",
    "- **Región 1:** 68.71 unidades  \n",
    "- **Región 2:** 94.77 unidades  \n",
    "\n",
    "### **Comparación con el umbral de rentabilidad (111.11 unidades):**\n",
    "- **Región 0:** No supera el umbral.\n",
    "- **Región 1:** No supera el umbral.\n",
    "- **Región 2:** No supera el umbral.\n",
    "\n",
    "### **Interpretación:**\n",
    "- Ninguna de las tres regiones tiene un **volumen medio de reservas predicho** que supere el **umbral de 111.11 unidades** necesario para evitar pérdidas.\n",
    "- Esto sugiere que, en promedio, los pozos en estas regiones **no generarían los 500,000 USD mínimos** por pozo para evitar pérdidas.\n",
    "\n",
    "### **Conclusión preliminar:**\n",
    "Aunque los promedios no alcanzan el umbral mínimo de rentabilidad, todavía existe la posibilidad de lograr beneficios seleccionando **los 200 pozos con los mayores volúmenes predichos** en cada región. La siguiente etapa consistirá en identificar los **mejores pozos** para analizar si, con una selección óptima, podemos alcanzar la rentabilidad deseada."
   ]
  },
  {
   "cell_type": "markdown",
   "metadata": {},
   "source": [
    "# **Conclusiones sobre la preparación para el cálculo del beneficio**\n",
    "\n",
    "Con base en el análisis realizado, hemos concluido lo siguiente:\n",
    "\n",
    "1. **Volumen medio de reservas:**  \n",
    "   - Ninguna de las tres regiones tiene un volumen medio predicho que supere el umbral de **111.11 unidades** por pozo, lo que significa que no alcanzan los **500,000 USD** mínimos por pozo para evitar pérdidas.  \n",
    "   - Esto sugiere que no podemos depender del volumen medio, y será crucial **seleccionar los pozos con los mayores volúmenes predichos** en cada región para alcanzar la rentabilidad deseada.\n",
    "\n",
    "2. **Siguiente paso para el cálculo del beneficio:**  \n",
    "   - Seleccionaremos los **200 pozos con los mayores volúmenes de reservas** en cada región. Esta selección nos permitirá concentrarnos en los pozos más rentables y evitar aquellos con reservas menores que generen pérdidas.\n",
    "   - Posteriormente, realizaremos un **análisis de ganancias y riesgos** mediante la técnica de **bootstrapping**, lo que nos dará una visión más completa del beneficio potencial y la probabilidad de pérdidas.\n",
    "\n",
    "3. **Preparación final:**  \n",
    "   - Con los valores económicos (presupuesto, número de pozos, precio por unidad, y reservas mínimas) ya almacenados y las predicciones cargadas correctamente, estamos listos para proceder al **cálculo de las ganancias y la selección de pozos**.\n",
    "\n",
    "Resumiendo, aunque ninguna región cumple con el umbral de rentabilidad a nivel promedio, tenemos los elementos listos para avanzar y concentrar el desarrollo en los pozos más prometedores.\n"
   ]
  },
  {
   "cell_type": "markdown",
   "metadata": {},
   "source": [
    "# **Selección de los 200 pozos más prometedores en cada región**\n",
    "\n",
    "En este paso, nos enfocaremos en **identificar los 200 pozos con las mayores reservas predichas** en cada una de las tres regiones. Esta selección es crucial porque:\n",
    "- Nos permitirá concentrarnos en los **pozos más rentables** y evitar aquellos con reservas insuficientes.\n",
    "- A pesar de que el volumen medio de reservas por pozo no alcanza el umbral de rentabilidad, al seleccionar los pozos con **las mayores reservas estimadas**, aumentamos la posibilidad de lograr el beneficio deseado.\n",
    "\n",
    "### **Proceso:**\n",
    "1. **Ordenar las predicciones:** Ordenaremos las predicciones de cada región de mayor a menor.\n",
    "2. **Seleccionar los 200 pozos más altos:** Tomaremos los primeros 200 valores de la lista ordenada para cada región.\n",
    "3. **Almacenar los pozos seleccionados:** Los pozos seleccionados se guardarán para su posterior análisis de ganancias y riesgos.\n",
    "\n",
    "Este paso nos acerca a calcular las **ganancias potenciales**, ya que basaremos el análisis en los pozos más prometedores en términos de reservas predichas.\n"
   ]
  },
  {
   "cell_type": "code",
   "execution_count": 9,
   "metadata": {},
   "outputs": [
    {
     "name": "stdout",
     "output_type": "stream",
     "text": [
      "Primeras 5 predicciones seleccionadas para geo_data_0:\n",
      "6958     176.536104\n",
      "18194    176.274510\n",
      "17251    173.249504\n",
      "457      172.802708\n",
      "2202     172.744977\n",
      "Name: predictions, dtype: float64\n",
      "\n",
      "Primeras 5 predicciones seleccionadas para geo_data_1:\n",
      "20776    139.983277\n",
      "2323     139.700803\n",
      "13895    139.616544\n",
      "6950     139.514768\n",
      "9151     139.472212\n",
      "Name: predictions, dtype: float64\n",
      "\n",
      "Primeras 5 predicciones seleccionadas para geo_data_2:\n",
      "21852    170.529209\n",
      "10722    169.673332\n",
      "6209     165.300724\n",
      "8203     164.613896\n",
      "8042     163.964000\n",
      "Name: predictions, dtype: float64\n",
      "\n",
      "Selección de los 200 pozos más prometedores completada y guardada.\n"
     ]
    }
   ],
   "source": [
    "# Función para seleccionar los 200 pozos con las mayores reservas predichas\n",
    "def select_top_200(predictions):\n",
    "    # Ordenar las predicciones de mayor a menor y seleccionar las primeras 200\n",
    "    top_200 = predictions.sort_values(ascending=False).head(200)\n",
    "    return top_200\n",
    "\n",
    "# Seleccionar los 200 pozos más prometedores para cada región\n",
    "top_200_0 = select_top_200(predictions_0)\n",
    "top_200_1 = select_top_200(predictions_1)\n",
    "top_200_2 = select_top_200(predictions_2)\n",
    "\n",
    "# Mostrar las primeras 5 predicciones seleccionadas para verificar el proceso\n",
    "print(\"Primeras 5 predicciones seleccionadas para geo_data_0:\")\n",
    "print(top_200_0.head())\n",
    "\n",
    "print(\"\\nPrimeras 5 predicciones seleccionadas para geo_data_1:\")\n",
    "print(top_200_1.head())\n",
    "\n",
    "print(\"\\nPrimeras 5 predicciones seleccionadas para geo_data_2:\")\n",
    "print(top_200_2.head())\n",
    "\n",
    "# Guardar las selecciones en archivos CSV para futuras referencias\n",
    "top_200_0.to_csv('top_200_geo_data_0.csv', index=False)\n",
    "top_200_1.to_csv('top_200_geo_data_1.csv', index=False)\n",
    "top_200_2.to_csv('top_200_geo_data_2.csv', index=False)\n",
    "\n",
    "print(\"\\nSelección de los 200 pozos más prometedores completada y guardada.\")\n"
   ]
  },
  {
   "cell_type": "markdown",
   "metadata": {},
   "source": [
    "# **Resumen del volumen objetivo de reservas para los 200 pozos seleccionados**\n",
    "\n",
    "En este paso, resumiremos el **volumen total de reservas predicho** para los **200 pozos más prometedores** en cada una de las tres regiones. Esta información es clave para estimar las ganancias potenciales de cada región y comparar su rentabilidad.\n",
    "\n",
    "### **Proceso:**\n",
    "1. **Suma del volumen de reservas predicho:** Calcularemos el volumen total de las reservas para los **200 pozos seleccionados** en cada región.\n",
    "2. **Almacenamiento del resumen:** Guardaremos estos volúmenes totales como parte del análisis para que puedan ser utilizados en el cálculo de ganancias y el análisis de riesgo posterior.\n",
    "\n",
    "Este resumen nos ayudará a identificar qué región tiene **el mayor potencial de reservas concentradas en los mejores pozos** y será un elemento fundamental en la **selección de la región más prometedora** para el desarrollo.\n"
   ]
  },
  {
   "cell_type": "code",
   "execution_count": 10,
   "metadata": {},
   "outputs": [
    {
     "name": "stdout",
     "output_type": "stream",
     "text": [
      "Volumen total de reservas en los 200 pozos de geo_data_0: 30881.46 unidades\n",
      "Volumen total de reservas en los 200 pozos de geo_data_1: 27748.75 unidades\n",
      "Volumen total de reservas en los 200 pozos de geo_data_2: 29728.85 unidades\n",
      "\n",
      "Resumen del volumen de reservas completado y guardado.\n"
     ]
    }
   ],
   "source": [
    "# Función para calcular el volumen total de reservas de los 200 pozos seleccionados\n",
    "def summarize_reserves(top_200):\n",
    "    total_reserves = top_200.sum()\n",
    "    return total_reserves\n",
    "\n",
    "# Calcular el volumen total de reservas para cada región\n",
    "total_reserves_0 = summarize_reserves(top_200_0)\n",
    "total_reserves_1 = summarize_reserves(top_200_1)\n",
    "total_reserves_2 = summarize_reserves(top_200_2)\n",
    "\n",
    "# Mostrar los resultados\n",
    "print(f\"Volumen total de reservas en los 200 pozos de geo_data_0: {total_reserves_0:.2f} unidades\")\n",
    "print(f\"Volumen total de reservas en los 200 pozos de geo_data_1: {total_reserves_1:.2f} unidades\")\n",
    "print(f\"Volumen total de reservas en los 200 pozos de geo_data_2: {total_reserves_2:.2f} unidades\")\n",
    "\n",
    "# Guardar los resultados en archivos CSV\n",
    "pd.DataFrame({'total_reserves': [total_reserves_0]}).to_csv('total_reserves_geo_data_0.csv', index=False)\n",
    "pd.DataFrame({'total_reserves': [total_reserves_1]}).to_csv('total_reserves_geo_data_1.csv', index=False)\n",
    "pd.DataFrame({'total_reserves': [total_reserves_2]}).to_csv('total_reserves_geo_data_2.csv', index=False)\n",
    "\n",
    "print(\"\\nResumen del volumen de reservas completado y guardado.\")\n"
   ]
  },
  {
   "cell_type": "markdown",
   "metadata": {},
   "source": [
    "# **Resumen del volumen total de reservas en los 200 pozos seleccionados**\n",
    "\n",
    "### **Resultados por región:**\n",
    "- **Región 0:** 30,881.46 unidades  \n",
    "- **Región 1:** 27,748.75 unidades  \n",
    "- **Región 2:** 29,728.85 unidades  \n",
    "\n",
    "### **Interpretación:**\n",
    "- **Región 0** destaca por tener el mayor volumen total de reservas entre los 200 pozos más prometedores, lo que indica un mayor potencial de rentabilidad.\n",
    "- **Región 1** tiene el volumen más bajo de los tres, lo que podría sugerir una opción menos competitiva.\n",
    "- **Región 2** presenta un volumen total considerable, cercano al de la Región 0, lo que la convierte en otra opción viable.\n",
    "\n",
    "Con base en estos resultados, **Región 0 y Región 2** parecen las más prometedoras, ya que concentran un alto volumen de reservas en sus mejores pozos. Sin embargo, todavía es necesario calcular las **ganancias potenciales** para cada región. Este análisis nos permitirá seleccionar la **región más rentable para el desarrollo de pozos petrolíferos** y justificar nuestra decisión basada en los beneficios económicos esperados.\n",
    "\n"
   ]
  },
  {
   "cell_type": "markdown",
   "metadata": {},
   "source": [
    "# **Cálculo de la ganancia potencial para los 200 pozos principales por región**\n",
    "\n",
    "En este paso, calcularemos la **ganancia potencial** de los 200 pozos seleccionados en cada región. Este análisis nos permitirá identificar **qué región generaría los mayores beneficios económicos** si se desarrollaran los pozos con las mayores reservas predichas.\n",
    "\n",
    "### **Proceso:**\n",
    "1. **Fórmula del cálculo de ganancias:**  \n",
    "   - La ganancia total se calculará como:\n",
    "     \\[\n",
    "     \\text{Ganancia} = \\text{Volumen Total de Reservas} \\times \\text{Ingresos por Unidad}\n",
    "     \\]\n",
    "     Donde:\n",
    "     - **Volumen Total de Reservas:** La suma de las reservas de los 200 pozos seleccionados.\n",
    "     - **Ingresos por Unidad:** 4,500 USD por cada 1,000 barriles (1 unidad).\n",
    "\n",
    "2. **Comparación entre regiones:**  \n",
    "   - Calcularemos la ganancia para cada región con base en sus 200 pozos más prometedores y **compararemos los resultados** para determinar cuál es la opción más rentable.\n",
    "\n",
    "3. **Selección de la región más rentable:**  \n",
    "   - Con los resultados obtenidos, presentaremos una recomendación sobre **qué región es la mejor opción** para el desarrollo de pozos, justificando la decisión con base en las ganancias proyectadas.\n",
    "\n",
    "Este análisis será fundamental para asegurar que los recursos se inviertan en la región con **mayor potencial de retorno económico**, minimizando riesgos y maximizando beneficios.\n"
   ]
  },
  {
   "cell_type": "code",
   "execution_count": 11,
   "metadata": {},
   "outputs": [
    {
     "name": "stdout",
     "output_type": "stream",
     "text": [
      "Ganancia potencial de los 200 pozos en geo_data_0: $138,966,584.80\n",
      "Ganancia potencial de los 200 pozos en geo_data_1: $124,869,381.15\n",
      "Ganancia potencial de los 200 pozos en geo_data_2: $133,779,815.14\n",
      "\n",
      "La mejor opción es Región 0 con una ganancia proyectada de $138,966,584.80.\n"
     ]
    }
   ],
   "source": [
    "# Función para calcular la ganancia total para los 200 pozos seleccionados\n",
    "def calculate_profit(total_reserves, income_per_unit=4500):\n",
    "    return total_reserves * income_per_unit\n",
    "\n",
    "# Calcular la ganancia potencial para cada región\n",
    "profit_0 = calculate_profit(total_reserves_0)\n",
    "profit_1 = calculate_profit(total_reserves_1)\n",
    "profit_2 = calculate_profit(total_reserves_2)\n",
    "\n",
    "# Mostrar las ganancias potenciales por región\n",
    "print(f\"Ganancia potencial de los 200 pozos en geo_data_0: ${profit_0:,.2f}\")\n",
    "print(f\"Ganancia potencial de los 200 pozos en geo_data_1: ${profit_1:,.2f}\")\n",
    "print(f\"Ganancia potencial de los 200 pozos en geo_data_2: ${profit_2:,.2f}\")\n",
    "\n",
    "# Seleccionar la región con la mayor ganancia\n",
    "profits = {'Región 0': profit_0, 'Región 1': profit_1, 'Región 2': profit_2}\n",
    "best_region = max(profits, key=profits.get)\n",
    "\n",
    "print(f\"\\nLa mejor opción es {best_region} con una ganancia proyectada de ${profits[best_region]:,.2f}.\")\n"
   ]
  },
  {
   "cell_type": "markdown",
   "metadata": {},
   "source": [
    "# **Conclusiones sobre la ganancia potencial y selección de la región más prometedora**\n",
    "\n",
    "### **Ganancia potencial por región:**\n",
    "- **Región 0:** $138,966,584.80  \n",
    "- **Región 1:** $124,869,381.15  \n",
    "- **Región 2:** $133,779,815.14  \n",
    "\n",
    "### **Análisis:**\n",
    "- La **Región 0** presenta la **mayor ganancia proyectada** entre las tres regiones, con $138,966,584.80, lo que la convierte en la opción más rentable para el desarrollo de los 200 pozos seleccionados.\n",
    "- **Región 2** también muestra un desempeño competitivo, con una ganancia proyectada cercana a la de la Región 0. Sin embargo, la diferencia en la ganancia hace que **Región 0** sea una opción ligeramente más favorable.\n",
    "- **Región 1**, aunque presenta un modelo con alta precisión (bajo RMSE), genera la menor ganancia de las tres, lo que sugiere que **el potencial económico es más limitado** en comparación con las otras regiones.\n",
    "\n",
    "### **Recomendación hasta este punto:**\n",
    "Se recomienda proceder con el **desarrollo de los 200 pozos seleccionados en la Región 0**. Esta región no solo ofrece el **mayor volumen total de reservas** en los pozos más prometedores, sino que también proyecta la **mayor ganancia económica**. Invertir en esta región maximiza la probabilidad de alcanzar un retorno significativo sobre la inversión, asegurando el uso más eficiente de los recursos disponibles.\n",
    "\n",
    "Esta elección está respaldada por el análisis detallado de las predicciones, el volumen de reservas y la rentabilidad proyectada. Aunque las otras regiones tienen potencial, **Región 0** es la opción más atractiva desde una perspectiva financiera.\n"
   ]
  },
  {
   "cell_type": "markdown",
   "metadata": {},
   "source": [
    "# **Cálculo de riesgos y distribución de ganancias mediante bootstrapping**\n",
    "\n",
    "En este punto, utilizaremos la técnica de **bootstrapping** para evaluar la **distribución de los beneficios** en cada región. Este método nos permitirá:\n",
    "1. **Simular la variabilidad en las ganancias:** Tomaremos **1,000 muestras aleatorias** con reemplazo de los 200 pozos seleccionados en cada región.\n",
    "2. **Calcular la ganancia para cada muestra:** Esto nos proporcionará una **distribución de las ganancias** y nos permitirá observar posibles escenarios favorables o desfavorables.\n",
    "3. **Evaluar riesgos:** \n",
    "   - Veremos la **probabilidad de pérdidas**, es decir, cuántas veces una muestra generó menos de los **500,000 USD por pozo** necesarios para evitar pérdidas.\n",
    "   - Esto nos dará una visión más clara del **riesgo asociado** con cada región, complementando el análisis de rentabilidad realizado previamente.\n",
    "\n",
    "### **Importancia del bootstrapping:**\n",
    "Esta técnica es fundamental para analizar **riesgos** y no solo ganancias potenciales. Nos permite estimar con mayor certeza qué tan estable y predecible es la ganancia en cada región, lo que es crucial para la toma de decisiones estratégicas.\n",
    "\n",
    "Con este análisis, podremos presentar una recomendación final basada en tanto la **ganancia proyectada** como el **riesgo de pérdida**.\n"
   ]
  },
  {
   "cell_type": "code",
   "execution_count": 12,
   "metadata": {},
   "outputs": [
    {
     "name": "stdout",
     "output_type": "stream",
     "text": [
      "Media de ganancias para geo_data_0: $138,969,541.65\n",
      "Media de ganancias para geo_data_1: $124,869,404.87\n",
      "Media de ganancias para geo_data_2: $133,766,239.06\n",
      "\n",
      "Probabilidad de pérdida para geo_data_0: 0.00%\n",
      "Probabilidad de pérdida para geo_data_1: 0.00%\n",
      "Probabilidad de pérdida para geo_data_2: 0.00%\n"
     ]
    }
   ],
   "source": [
    "import numpy as np\n",
    "\n",
    "# Función para realizar bootstrapping y calcular la distribución de ganancias\n",
    "def bootstrap_profit(predictions, n_samples=1000, n_pozos=200, income_per_unit=4500):\n",
    "    profits = []\n",
    "    \n",
    "    # Generar 1000 muestras aleatorias con reemplazo\n",
    "    for _ in range(n_samples):\n",
    "        sample = predictions.sample(n=n_pozos, replace=True)\n",
    "        total_reserves = sample.sum()\n",
    "        profit = total_reserves * income_per_unit\n",
    "        profits.append(profit)\n",
    "    \n",
    "    return np.array(profits)\n",
    "\n",
    "# Realizar bootstrapping para cada región\n",
    "profits_0 = bootstrap_profit(top_200_0)\n",
    "profits_1 = bootstrap_profit(top_200_1)\n",
    "profits_2 = bootstrap_profit(top_200_2)\n",
    "\n",
    "# Calcular estadísticas descriptivas para cada región\n",
    "print(f\"Media de ganancias para geo_data_0: ${profits_0.mean():,.2f}\")\n",
    "print(f\"Media de ganancias para geo_data_1: ${profits_1.mean():,.2f}\")\n",
    "print(f\"Media de ganancias para geo_data_2: ${profits_2.mean():,.2f}\")\n",
    "\n",
    "# Calcular la probabilidad de pérdida (ganancia negativa) en cada región\n",
    "loss_threshold = 500_000 * 200  # 500,000 USD por pozo para 200 pozos\n",
    "loss_prob_0 = np.mean(profits_0 < loss_threshold)\n",
    "loss_prob_1 = np.mean(profits_1 < loss_threshold)\n",
    "loss_prob_2 = np.mean(profits_2 < loss_threshold)\n",
    "\n",
    "print(f\"\\nProbabilidad de pérdida para geo_data_0: {loss_prob_0:.2%}\")\n",
    "print(f\"Probabilidad de pérdida para geo_data_1: {loss_prob_1:.2%}\")\n",
    "print(f\"Probabilidad de pérdida para geo_data_2: {loss_prob_2:.2%}\")\n"
   ]
  },
  {
   "cell_type": "markdown",
   "metadata": {},
   "source": [
    "# **Resultados del análisis de ganancias y riesgos mediante bootstrapping**\n",
    "\n",
    "### **Media de ganancias por región:**\n",
    "- **Región 0:** $138,969,541.65  \n",
    "- **Región 1:** $124,869,404.87  \n",
    "- **Región 2:** $133,766,239.06  \n",
    "\n",
    "### **Probabilidad de pérdida:**\n",
    "- **Región 0:** 0.00%  \n",
    "- **Región 1:** 0.00%  \n",
    "- **Región 2:** 0.00%  \n",
    "\n",
    "### **Interpretación:**\n",
    "1. **Rentabilidad proyectada:**  \n",
    "   - La **Región 0** sigue destacando como la opción más rentable, con una media de ganancias cercana a los **138.97 millones de USD**.\n",
    "   - **Región 2** también se mantiene como una opción competitiva, con ganancias cercanas a **133.77 millones de USD**.\n",
    "   - **Región 1**, aunque con la menor ganancia proyectada, ofrece un rendimiento significativo con **124.87 millones de USD**.\n",
    "\n",
    "2. **Riesgo de pérdida:**  \n",
    "   - La probabilidad de pérdida es **0.00%** en todas las regiones. Esto indica que, en cada una de las 1,000 simulaciones realizadas, las ganancias proyectadas siempre superaron el umbral mínimo necesario de **500,000 USD por pozo**, lo que refleja un **riesgo mínimo** en las inversiones.\n",
    "\n",
    "### **Conclusión:**\n",
    "- Con base en la **media de ganancias** y la **ausencia de riesgo de pérdida**, **Región 0** se mantiene como la **mejor opción** para el desarrollo de los pozos petrolíferos. No solo presenta la mayor rentabilidad proyectada, sino que también ofrece estabilidad en los retornos, con un riesgo prácticamente nulo.\n",
    "- **Región 2** podría considerarse como una opción alternativa, dado que tiene una ganancia competitiva. Sin embargo, la mayor rentabilidad de la **Región 0** la hace la opción más favorable para maximizar el retorno de inversión.\n",
    "\n",
    "La combinación de **rentabilidad** y **riesgo mínimo** respalda la decisión de desarrollar los 200 pozos en la **Región 0**, maximizando las ganancias y garantizando estabilidad en los retornos.\n",
    "\n"
   ]
  },
  {
   "cell_type": "markdown",
   "metadata": {},
   "source": [
    "# **Cálculo del beneficio promedio, intervalo de confianza del 95% y riesgo de pérdidas**\n",
    "\n",
    "En este paso, realizaremos un análisis más detallado del rendimiento económico de cada región. Nos enfocaremos en:\n",
    "1. **Beneficio promedio:** Confirmaremos el promedio de las ganancias obtenidas en las simulaciones de bootstrapping.\n",
    "2. **Intervalo de confianza del 95%:** Calcularemos el intervalo de confianza para las ganancias, lo que nos permitirá entender la **variabilidad** de los beneficios y asegurar que los retornos proyectados son confiables.\n",
    "3. **Riesgo de pérdidas:** \n",
    "   - El **riesgo de pérdidas** se expresa como la **probabilidad de obtener ganancias negativas** o menores al umbral mínimo de 500,000 USD por pozo.\n",
    "   - Este porcentaje se calcula en función de las **muestras generadas mediante bootstrapping**, proporcionando una medida objetiva del riesgo para cada región.\n",
    "\n",
    "### **Importancia del análisis:**\n",
    "Este análisis es crucial para tomar decisiones informadas. No solo consideraremos el beneficio promedio, sino también la **dispersión de los resultados** y la **probabilidad de pérdidas**. Esta combinación de métricas garantizará que elegimos la región con el **mejor equilibrio entre rentabilidad y riesgo**.\n"
   ]
  },
  {
   "cell_type": "code",
   "execution_count": 13,
   "metadata": {},
   "outputs": [
    {
     "name": "stdout",
     "output_type": "stream",
     "text": [
      "Beneficio promedio para geo_data_0: $138,969,541.65\n",
      "Intervalo de confianza del 95% para geo_data_0: $138,187,810.86 - $139,788,866.49\n",
      "\n",
      "Beneficio promedio para geo_data_1: $124,869,404.87\n",
      "Intervalo de confianza del 95% para geo_data_1: $124,834,611.49 - $124,903,907.52\n",
      "\n",
      "Beneficio promedio para geo_data_2: $133,766,239.06\n",
      "Intervalo de confianza del 95% para geo_data_2: $133,078,525.76 - $134,474,850.42\n",
      "\n",
      "Probabilidad de pérdida para geo_data_0: 0.00%\n",
      "Probabilidad de pérdida para geo_data_1: 0.00%\n",
      "Probabilidad de pérdida para geo_data_2: 0.00%\n"
     ]
    }
   ],
   "source": [
    "# Función para calcular el intervalo de confianza del 95% y el beneficio promedio\n",
    "def calculate_statistics(profits):\n",
    "    mean_profit = profits.mean()\n",
    "    lower_bound = np.percentile(profits, 2.5)\n",
    "    upper_bound = np.percentile(profits, 97.5)\n",
    "    return mean_profit, (lower_bound, upper_bound)\n",
    "\n",
    "# Calcular estadísticas para cada región\n",
    "mean_0, conf_interval_0 = calculate_statistics(profits_0)\n",
    "mean_1, conf_interval_1 = calculate_statistics(profits_1)\n",
    "mean_2, conf_interval_2 = calculate_statistics(profits_2)\n",
    "\n",
    "# Mostrar los resultados\n",
    "print(f\"Beneficio promedio para geo_data_0: ${mean_0:,.2f}\")\n",
    "print(f\"Intervalo de confianza del 95% para geo_data_0: ${conf_interval_0[0]:,.2f} - ${conf_interval_0[1]:,.2f}\")\n",
    "\n",
    "print(f\"\\nBeneficio promedio para geo_data_1: ${mean_1:,.2f}\")\n",
    "print(f\"Intervalo de confianza del 95% para geo_data_1: ${conf_interval_1[0]:,.2f} - ${conf_interval_1[1]:,.2f}\")\n",
    "\n",
    "print(f\"\\nBeneficio promedio para geo_data_2: ${mean_2:,.2f}\")\n",
    "print(f\"Intervalo de confianza del 95% para geo_data_2: ${conf_interval_2[0]:,.2f} - ${conf_interval_2[1]:,.2f}\")\n",
    "\n",
    "# Recalcular probabilidad de pérdidas (menores a 500,000 USD por pozo)\n",
    "loss_threshold = 500_000 * 200  # 500,000 USD por pozo para 200 pozos\n",
    "\n",
    "loss_prob_0 = np.mean(profits_0 < loss_threshold)\n",
    "loss_prob_1 = np.mean(profits_1 < loss_threshold)\n",
    "loss_prob_2 = np.mean(profits_2 < loss_threshold)\n",
    "\n",
    "# Mostrar probabilidad de pérdida para cada región\n",
    "print(f\"\\nProbabilidad de pérdida para geo_data_0: {loss_prob_0:.2%}\")\n",
    "print(f\"Probabilidad de pérdida para geo_data_1: {loss_prob_1:.2%}\")\n",
    "print(f\"Probabilidad de pérdida para geo_data_2: {loss_prob_2:.2%}\")\n"
   ]
  },
  {
   "cell_type": "markdown",
   "metadata": {},
   "source": [
    "# **Resultados del análisis de beneficios y riesgos**\n",
    "\n",
    "### **Beneficio promedio por región:**\n",
    "- **Región 0:** $138,969,541.65  \n",
    "- **Región 1:** $124,869,404.87  \n",
    "- **Región 2:** $133,766,239.06  \n",
    "\n",
    "### **Intervalo de confianza del 95% para las ganancias:**\n",
    "- **Región 0:** $138,187,810.86 - $139,788,866.49  \n",
    "- **Región 1:** $124,834,611.49 - $124,903,907.52  \n",
    "- **Región 2:** $133,078,525.76 - $134,474,850.42  \n",
    "\n",
    "### **Probabilidad de pérdida:**\n",
    "- **Región 0:** 0.00%  \n",
    "- **Región 1:** 0.00%  \n",
    "- **Región 2:** 0.00%  \n",
    "\n",
    "### **Interpretación:**\n",
    "1. **Beneficio promedio y estabilidad:**  \n",
    "   - La **Región 0** sigue siendo la más prometedora, con un beneficio promedio cercano a **138.97 millones de USD** y un intervalo de confianza estrecho que refleja **poca variabilidad** en las ganancias.\n",
    "   - **Región 1** tiene la menor ganancia proyectada, pero también muestra un intervalo de confianza muy ajustado, indicando **resultados consistentes**.\n",
    "   - **Región 2** presenta un beneficio competitivo, con un intervalo de confianza que sugiere **ligera variabilidad** en los resultados.\n",
    "\n",
    "2. **Riesgo de pérdida:**  \n",
    "   - Ninguna de las tres regiones tiene **probabilidad de pérdida**, lo que indica que todas las simulaciones generaron ganancias mayores al umbral mínimo. Esto refleja un **riesgo mínimo** para la inversión en cualquiera de las regiones.\n",
    "\n",
    "### **Conclusión:**\n",
    "- La **Región 0** es la **mejor opción** para el desarrollo de los pozos, ya que ofrece la mayor rentabilidad proyectada, estabilidad en los resultados y un riesgo nulo.\n",
    "- **Región 2** podría considerarse como una alternativa viable, pero la **Región 0** sigue siendo la opción más atractiva en términos económicos.\n",
    "\n",
    "Este análisis final confirma que la inversión en **Región 0** maximiza el retorno con el menor riesgo posible, lo que respalda la decisión de priorizar el desarrollo de pozos en esta región.\n",
    "\n"
   ]
  },
  {
   "cell_type": "markdown",
   "metadata": {},
   "source": [
    "# **Conclusiones finales y recomendación para el desarrollo de pozos petrolíferos**\n",
    "\n",
    "### **Análisis y resultados finales:**\n",
    "- **Región 0** se mantiene como la **mejor opción** tanto en términos de beneficio proyectado como de estabilidad en los resultados:\n",
    "  - **Beneficio promedio:** $138,969,541.65  \n",
    "  - **Intervalo de confianza del 95%:** $138,187,810.86 - $139,788,866.49  \n",
    "  - **Riesgo de pérdida:** 0.00%\n",
    "\n",
    "- **Región 2** también es competitiva, con un beneficio proyectado cercano, pero **Región 0** sigue siendo superior en términos de **rentabilidad y consistencia**.\n",
    "\n",
    "- **Región 1** presenta una menor rentabilidad proyectada, aunque con resultados consistentes y riesgo nulo. Sin embargo, sus ganancias no superan a las de las otras dos regiones, por lo que no se recomienda priorizar esta opción.\n",
    "\n",
    "### **Recomendación final:**\n",
    "Se recomienda desarrollar los **200 pozos seleccionados en la Región 0**. Esta región ofrece:\n",
    "1. **Mayor rentabilidad:** La ganancia proyectada es la más alta entre las tres regiones.\n",
    "2. **Estabilidad en los resultados:** El intervalo de confianza del 95% es estrecho, lo que refleja poca variabilidad en las ganancias.\n",
    "3. **Riesgo mínimo:** No existe riesgo de pérdida, asegurando un retorno positivo sobre la inversión.\n",
    "\n",
    "### **¿Coincide la elección con la decisión anterior?**\n",
    "Sí, nuestra **selección final coincide con la decisión anterior** realizada en el análisis previo. En ambos casos, **Región 0** se destacó como la opción más prometedora, gracias a su combinación de **alta rentabilidad y riesgo mínimo**.\n",
    "\n",
    "Esta recomendación asegura que los recursos se inviertan de manera eficiente, maximizando el retorno y minimizando los riesgos. Por lo tanto, desarrollar los pozos en **Región 0** es la decisión más estratégica y rentable.\n",
    "\n"
   ]
  }
 ],
 "metadata": {
  "ExecuteTimeLog": [
   {
    "duration": 702,
    "start_time": "2024-10-23T00:05:41.691Z"
   },
   {
    "duration": 1111,
    "start_time": "2024-10-23T00:24:25.225Z"
   },
   {
    "duration": 30,
    "start_time": "2024-10-23T00:25:50.062Z"
   },
   {
    "duration": 685,
    "start_time": "2024-10-23T02:59:51.088Z"
   },
   {
    "duration": 475,
    "start_time": "2024-10-23T02:59:51.775Z"
   },
   {
    "duration": 231,
    "start_time": "2024-10-23T03:03:42.145Z"
   },
   {
    "duration": 28,
    "start_time": "2024-10-23T03:12:29.454Z"
   },
   {
    "duration": 23,
    "start_time": "2024-10-23T03:13:05.717Z"
   },
   {
    "duration": 6,
    "start_time": "2024-10-23T03:26:51.414Z"
   },
   {
    "duration": 25,
    "start_time": "2024-10-23T03:36:17.609Z"
   },
   {
    "duration": 15,
    "start_time": "2024-10-23T03:38:39.815Z"
   },
   {
    "duration": 7,
    "start_time": "2024-10-23T03:47:03.034Z"
   },
   {
    "duration": 951,
    "start_time": "2024-10-23T03:49:59.609Z"
   },
   {
    "duration": 26,
    "start_time": "2024-10-23T03:58:15.556Z"
   },
   {
    "duration": 4,
    "start_time": "2024-10-23T03:58:38.592Z"
   },
   {
    "duration": 17,
    "start_time": "2024-10-23T03:59:05.624Z"
   },
   {
    "duration": 753,
    "start_time": "2024-10-23T16:03:15.273Z"
   },
   {
    "duration": 384,
    "start_time": "2024-10-23T16:04:14.579Z"
   },
   {
    "duration": 500,
    "start_time": "2024-10-23T16:16:23.487Z"
   },
   {
    "duration": 70,
    "start_time": "2024-10-23T16:23:29.542Z"
   },
   {
    "duration": 274,
    "start_time": "2024-10-23T16:26:24.006Z"
   },
   {
    "duration": 6,
    "start_time": "2024-10-23T16:31:15.506Z"
   },
   {
    "duration": 854,
    "start_time": "2024-10-23T16:39:52.218Z"
   },
   {
    "duration": 62,
    "start_time": "2024-10-23T16:47:49.807Z"
   },
   {
    "duration": 5,
    "start_time": "2024-10-23T16:55:50.003Z"
   },
   {
    "duration": 47,
    "start_time": "2024-10-23T17:13:52.782Z"
   },
   {
    "duration": 32,
    "start_time": "2024-10-23T17:19:31.948Z"
   },
   {
    "duration": 7,
    "start_time": "2024-10-23T17:28:50.789Z"
   },
   {
    "duration": 4,
    "start_time": "2024-10-23T17:30:32.084Z"
   },
   {
    "duration": 348,
    "start_time": "2024-10-23T17:51:27.775Z"
   },
   {
    "duration": 7,
    "start_time": "2024-10-23T17:56:37.639Z"
   },
   {
    "duration": 737,
    "start_time": "2024-10-23T18:16:03.312Z"
   },
   {
    "duration": 498,
    "start_time": "2024-10-23T18:16:04.052Z"
   },
   {
    "duration": 81,
    "start_time": "2024-10-23T18:16:04.553Z"
   },
   {
    "duration": 449,
    "start_time": "2024-10-23T18:16:04.637Z"
   },
   {
    "duration": 6,
    "start_time": "2024-10-23T18:16:05.088Z"
   },
   {
    "duration": 889,
    "start_time": "2024-10-23T18:16:05.096Z"
   },
   {
    "duration": 66,
    "start_time": "2024-10-23T18:16:05.986Z"
   },
   {
    "duration": 6,
    "start_time": "2024-10-23T18:16:06.054Z"
   },
   {
    "duration": 64,
    "start_time": "2024-10-23T18:16:06.063Z"
   },
   {
    "duration": 50,
    "start_time": "2024-10-23T18:16:06.130Z"
   },
   {
    "duration": 5,
    "start_time": "2024-10-23T18:16:06.182Z"
   },
   {
    "duration": 349,
    "start_time": "2024-10-23T18:16:06.188Z"
   },
   {
    "duration": 9,
    "start_time": "2024-10-23T18:16:06.540Z"
   },
   {
    "duration": 658,
    "start_time": "2024-10-23T18:20:49.873Z"
   },
   {
    "duration": 509,
    "start_time": "2024-10-23T18:20:50.533Z"
   },
   {
    "duration": 167,
    "start_time": "2024-10-23T18:20:51.044Z"
   },
   {
    "duration": 377,
    "start_time": "2024-10-23T18:20:51.214Z"
   },
   {
    "duration": 7,
    "start_time": "2024-10-23T18:20:51.594Z"
   },
   {
    "duration": 873,
    "start_time": "2024-10-23T18:20:51.603Z"
   },
   {
    "duration": 64,
    "start_time": "2024-10-23T18:20:52.478Z"
   },
   {
    "duration": 7,
    "start_time": "2024-10-23T18:20:52.544Z"
   },
   {
    "duration": 57,
    "start_time": "2024-10-23T18:20:52.553Z"
   },
   {
    "duration": 52,
    "start_time": "2024-10-23T18:20:52.614Z"
   },
   {
    "duration": 5,
    "start_time": "2024-10-23T18:20:52.668Z"
   },
   {
    "duration": 326,
    "start_time": "2024-10-23T18:20:52.675Z"
   },
   {
    "duration": 12,
    "start_time": "2024-10-23T18:20:53.003Z"
   },
   {
    "duration": 701,
    "start_time": "2024-10-23T18:25:52.219Z"
   },
   {
    "duration": 531,
    "start_time": "2024-10-23T18:25:52.923Z"
   },
   {
    "duration": 160,
    "start_time": "2024-10-23T18:25:53.456Z"
   },
   {
    "duration": 356,
    "start_time": "2024-10-23T18:25:53.620Z"
   },
   {
    "duration": 6,
    "start_time": "2024-10-23T18:25:53.979Z"
   },
   {
    "duration": 906,
    "start_time": "2024-10-23T18:25:53.988Z"
   },
   {
    "duration": 74,
    "start_time": "2024-10-23T18:25:54.896Z"
   },
   {
    "duration": 6,
    "start_time": "2024-10-23T18:25:54.972Z"
   },
   {
    "duration": 60,
    "start_time": "2024-10-23T18:25:54.980Z"
   },
   {
    "duration": 43,
    "start_time": "2024-10-23T18:25:55.043Z"
   },
   {
    "duration": 4,
    "start_time": "2024-10-23T18:25:55.087Z"
   },
   {
    "duration": 359,
    "start_time": "2024-10-23T18:25:55.093Z"
   },
   {
    "duration": 7,
    "start_time": "2024-10-23T18:25:55.453Z"
   }
  ],
  "kernelspec": {
   "display_name": "Python 3 (ipykernel)",
   "language": "python",
   "name": "python3"
  },
  "language_info": {
   "codemirror_mode": {
    "name": "ipython",
    "version": 3
   },
   "file_extension": ".py",
   "mimetype": "text/x-python",
   "name": "python",
   "nbconvert_exporter": "python",
   "pygments_lexer": "ipython3",
   "version": "3.9.19"
  },
  "toc": {
   "base_numbering": 1,
   "nav_menu": {},
   "number_sections": true,
   "sideBar": true,
   "skip_h1_title": true,
   "title_cell": "Table of Contents",
   "title_sidebar": "Contents",
   "toc_cell": false,
   "toc_position": {},
   "toc_section_display": true,
   "toc_window_display": true
  }
 },
 "nbformat": 4,
 "nbformat_minor": 2
}
